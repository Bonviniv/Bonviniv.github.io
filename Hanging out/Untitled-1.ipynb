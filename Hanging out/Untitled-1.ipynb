{
 "cells": [
  {
   "cell_type": "code",
   "execution_count": 1,
   "metadata": {},
   "outputs": [
    {
     "name": "stdout",
     "output_type": "stream",
     "text": [
      "Processo concluído! 7704 palavras foram salvas em 'C:\\Users\\vitor\\OneDrive\\Desktop\\csv\\words.txt'.\n"
     ]
    }
   ],
   "source": [
    "# Definição dos caminhos dos arquivos\n",
    "input_file = r\"C:\\Users\\vitor\\OneDrive\\Desktop\\csv\\palavrasIng.txt\"\n",
    "output_file = r\"C:\\Users\\vitor\\OneDrive\\Desktop\\csv\\words.txt\"\n",
    "\n",
    "# Lista para armazenar as palavras filtradas\n",
    "filtered_words = []\n",
    "\n",
    "# Leitura e filtragem das palavras\n",
    "with open(input_file, \"r\", encoding=\"utf-8\") as f:\n",
    "    for line in f:\n",
    "        word = line.strip()  # Remove espaços extras e quebras de linha\n",
    "        if 5 <= len(word) <= 10:  # Verifica o tamanho da palavra\n",
    "            filtered_words.append(word)\n",
    "\n",
    "# Escreve as palavras filtradas no novo arquivo\n",
    "with open(output_file, \"w\", encoding=\"utf-8\") as f:\n",
    "    for word in filtered_words:\n",
    "        f.write(word + \"\\n\")\n",
    "\n",
    "print(f\"Processo concluído! {len(filtered_words)} palavras foram salvas em '{output_file}'.\")\n"
   ]
  }
 ],
 "metadata": {
  "kernelspec": {
   "display_name": "Python 3",
   "language": "python",
   "name": "python3"
  },
  "language_info": {
   "codemirror_mode": {
    "name": "ipython",
    "version": 3
   },
   "file_extension": ".py",
   "mimetype": "text/x-python",
   "name": "python",
   "nbconvert_exporter": "python",
   "pygments_lexer": "ipython3",
   "version": "3.11.3"
  }
 },
 "nbformat": 4,
 "nbformat_minor": 2
}
