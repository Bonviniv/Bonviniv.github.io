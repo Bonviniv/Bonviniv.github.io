{
 "cells": [
  {
   "cell_type": "code",
   "execution_count": 11,
   "metadata": {},
   "outputs": [
    {
     "name": "stdout",
     "output_type": "stream",
     "text": [
      "Arquivo filtrado salvo com sucesso em: C:\\Users\\vitor\\OneDrive\\Desktop\\csv\\palavras.txt\n"
     ]
    }
   ],
   "source": [
    "# Caminho do arquivo original e do arquivo filtrado\n",
    "caminho_entrada = r'C:\\Users\\vitor\\OneDrive\\Desktop\\csv\\palavras.txt'\n",
    "caminho_saida = r'C:\\Users\\vitor\\OneDrive\\Desktop\\csv\\palavras.txt'\n",
    "\n",
    "# Função para processar o arquivo\n",
    "def processar_arquivo(caminho_entrada, caminho_saida):\n",
    "    try:\n",
    "        # Abrindo o arquivo original para leitura\n",
    "        with open(caminho_entrada, 'r', encoding='utf-8') as file:\n",
    "            linhas = file.readlines()\n",
    "\n",
    "        # Filtrando as palavras conforme as condições\n",
    "        palavras_filtradas = []\n",
    "        for linha in linhas:\n",
    "            # Ignorar linhas que começam com \"#!\"\n",
    "            if linha.startswith('#!'):\n",
    "                continue\n",
    "\n",
    "            # Quebrando a linha em palavras\n",
    "            palavras = linha.split()\n",
    "\n",
    "            for palavra in palavras:\n",
    "                # Excluindo palavras com menos de 4 letras ou mais de 10 letras\n",
    "                if len(palavra) >= 4 and len(palavra) <= 10:\n",
    "                    palavras_filtradas.append(palavra)\n",
    "\n",
    "        # Gravando as palavras filtradas no arquivo de saída\n",
    "        with open(caminho_saida, 'w', encoding='utf-8') as file_saida:\n",
    "            for palavra in palavras_filtradas:\n",
    "                file_saida.write(palavra + '\\n')\n",
    "\n",
    "        print(f'Arquivo filtrado salvo com sucesso em: {caminho_saida}')\n",
    "    \n",
    "    except Exception as e:\n",
    "        print(f'Ocorreu um erro: {e}')\n",
    "\n",
    "# Chama a função para processar o arquivo\n",
    "processar_arquivo(caminho_entrada, caminho_saida)\n"
   ]
  }
 ],
 "metadata": {
  "kernelspec": {
   "display_name": "Python 3",
   "language": "python",
   "name": "python3"
  },
  "language_info": {
   "codemirror_mode": {
    "name": "ipython",
    "version": 3
   },
   "file_extension": ".py",
   "mimetype": "text/x-python",
   "name": "python",
   "nbconvert_exporter": "python",
   "pygments_lexer": "ipython3",
   "version": "3.11.3"
  }
 },
 "nbformat": 4,
 "nbformat_minor": 2
}
